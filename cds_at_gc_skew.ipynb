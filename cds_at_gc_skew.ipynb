{
 "cells": [
  {
   "cell_type": "code",
   "execution_count": 1,
   "metadata": {
    "collapsed": true
   },
   "outputs": [],
   "source": [
    "import numpy as np\n",
    "import pandas as pd\n",
    "from Bio.Seq import Seq"
   ]
  },
  {
   "cell_type": "code",
   "execution_count": 2,
   "metadata": {
    "collapsed": true
   },
   "outputs": [],
   "source": [
    "df = pd.read_table('genes.txt', sep='\\t', header=None, names=['Species', 'Gene', 'Sequence'])"
   ]
  },
  {
   "cell_type": "code",
   "execution_count": 3,
   "metadata": {
    "collapsed": false
   },
   "outputs": [
    {
     "data": {
      "text/html": [
       "<div>\n",
       "<table border=\"1\" class=\"dataframe\">\n",
       "  <thead>\n",
       "    <tr style=\"text-align: right;\">\n",
       "      <th></th>\n",
       "      <th>Species</th>\n",
       "      <th>Gene</th>\n",
       "      <th>Sequence</th>\n",
       "    </tr>\n",
       "  </thead>\n",
       "  <tbody>\n",
       "    <tr>\n",
       "      <th>0</th>\n",
       "      <td>Silurus_microdorsalis</td>\n",
       "      <td>ND1</td>\n",
       "      <td>ATGTTAGCTCTACTAATAACACATGTAATTAACCCCTTAGCCTATA...</td>\n",
       "    </tr>\n",
       "    <tr>\n",
       "      <th>1</th>\n",
       "      <td>Silurus_microdorsalis</td>\n",
       "      <td>ND2</td>\n",
       "      <td>ATGAGCCCCTACGTCATTACAATTCTCCTATCAAGCCTCGGCCTAG...</td>\n",
       "    </tr>\n",
       "    <tr>\n",
       "      <th>2</th>\n",
       "      <td>Silurus_microdorsalis</td>\n",
       "      <td>COX1</td>\n",
       "      <td>GTGACAATCACGCGCTGATTCTTCTCAACCAACCATAAAGACATTG...</td>\n",
       "    </tr>\n",
       "    <tr>\n",
       "      <th>3</th>\n",
       "      <td>Silurus_microdorsalis</td>\n",
       "      <td>COX2</td>\n",
       "      <td>ATGGCACACCCCTCACAACTAGGATTCCAAGACGCGGCCTCCCCTG...</td>\n",
       "    </tr>\n",
       "    <tr>\n",
       "      <th>4</th>\n",
       "      <td>Silurus_microdorsalis</td>\n",
       "      <td>ATP8</td>\n",
       "      <td>ATGCCACAATTAAACCCCGCCCCATGATTTGCAATTCTTGTATTCT...</td>\n",
       "    </tr>\n",
       "  </tbody>\n",
       "</table>\n",
       "</div>"
      ],
      "text/plain": [
       "                 Species  Gene  \\\n",
       "0  Silurus_microdorsalis   ND1   \n",
       "1  Silurus_microdorsalis   ND2   \n",
       "2  Silurus_microdorsalis  COX1   \n",
       "3  Silurus_microdorsalis  COX2   \n",
       "4  Silurus_microdorsalis  ATP8   \n",
       "\n",
       "                                            Sequence  \n",
       "0  ATGTTAGCTCTACTAATAACACATGTAATTAACCCCTTAGCCTATA...  \n",
       "1  ATGAGCCCCTACGTCATTACAATTCTCCTATCAAGCCTCGGCCTAG...  \n",
       "2  GTGACAATCACGCGCTGATTCTTCTCAACCAACCATAAAGACATTG...  \n",
       "3  ATGGCACACCCCTCACAACTAGGATTCCAAGACGCGGCCTCCCCTG...  \n",
       "4  ATGCCACAATTAAACCCCGCCCCATGATTTGCAATTCTTGTATTCT...  "
      ]
     },
     "execution_count": 3,
     "metadata": {},
     "output_type": "execute_result"
    }
   ],
   "source": [
    "df.head()"
   ]
  },
  {
   "cell_type": "code",
   "execution_count": 4,
   "metadata": {
    "collapsed": false
   },
   "outputs": [],
   "source": [
    "def get_fourfold_deg_sites(seq, vec_of_syn):\n",
    "    codon_list = []\n",
    "    third_pos = ''\n",
    "    for i in range(3, len(seq), 3):\n",
    "        codon = seq[i-3:i]\n",
    "        if codon in vec_of_syn:\n",
    "            codon_list.append(codon)\n",
    "            third_pos += codon[-1]\n",
    "    return(third_pos, len(codon_list))"
   ]
  },
  {
   "cell_type": "code",
   "execution_count": 21,
   "metadata": {
    "collapsed": false
   },
   "outputs": [
    {
     "ename": "ValueError",
     "evalue": "too many values to unpack (expected 2)",
     "output_type": "error",
     "traceback": [
      "\u001b[0;31m---------------------------------------------------------------------------\u001b[0m",
      "\u001b[0;31mValueError\u001b[0m                                Traceback (most recent call last)",
      "\u001b[0;32m<ipython-input-21-d8a2dd70ec8d>\u001b[0m in \u001b[0;36m<module>\u001b[0;34m()\u001b[0m\n\u001b[1;32m      1\u001b[0m \u001b[0mVecOfSynFourFoldDegenerateSites\u001b[0m \u001b[0;34m=\u001b[0m \u001b[0;34m[\u001b[0m\u001b[0;34m'CTT'\u001b[0m\u001b[0;34m,\u001b[0m\u001b[0;34m'CTC'\u001b[0m\u001b[0;34m,\u001b[0m\u001b[0;34m'CTA'\u001b[0m\u001b[0;34m,\u001b[0m\u001b[0;34m'CTG'\u001b[0m\u001b[0;34m,\u001b[0m\u001b[0;34m'GTT'\u001b[0m\u001b[0;34m,\u001b[0m\u001b[0;34m'GTC'\u001b[0m\u001b[0;34m,\u001b[0m\u001b[0;34m'GTA'\u001b[0m\u001b[0;34m,\u001b[0m\u001b[0;34m'GTG'\u001b[0m\u001b[0;34m,\u001b[0m\u001b[0;34m'TCT'\u001b[0m\u001b[0;34m,\u001b[0m\u001b[0;34m'TCC'\u001b[0m\u001b[0;34m,\u001b[0m\u001b[0;34m'TCA'\u001b[0m\u001b[0;34m,\u001b[0m\u001b[0;34m'TCG'\u001b[0m\u001b[0;34m,\u001b[0m\u001b[0;34m'CCT'\u001b[0m\u001b[0;34m,\u001b[0m\u001b[0;34m'CCC'\u001b[0m\u001b[0;34m,\u001b[0m\u001b[0;34m'CCA'\u001b[0m\u001b[0;34m,\u001b[0m\u001b[0;34m'CCG'\u001b[0m\u001b[0;34m,\u001b[0m\u001b[0;34m'ACT'\u001b[0m\u001b[0;34m,\u001b[0m\u001b[0;34m'ACC'\u001b[0m\u001b[0;34m,\u001b[0m\u001b[0;34m'ACA'\u001b[0m\u001b[0;34m,\u001b[0m\u001b[0;34m'ACG'\u001b[0m\u001b[0;34m,\u001b[0m\u001b[0;34m'GCT'\u001b[0m\u001b[0;34m,\u001b[0m\u001b[0;34m'GCC'\u001b[0m\u001b[0;34m,\u001b[0m\u001b[0;34m'GCA'\u001b[0m\u001b[0;34m,\u001b[0m\u001b[0;34m'GCG'\u001b[0m\u001b[0;34m,\u001b[0m\u001b[0;34m'CGT'\u001b[0m\u001b[0;34m,\u001b[0m\u001b[0;34m'CGC'\u001b[0m\u001b[0;34m,\u001b[0m\u001b[0;34m'CGA'\u001b[0m\u001b[0;34m,\u001b[0m\u001b[0;34m'CGG'\u001b[0m\u001b[0;34m,\u001b[0m\u001b[0;34m'GGT'\u001b[0m\u001b[0;34m,\u001b[0m\u001b[0;34m'GGC'\u001b[0m\u001b[0;34m,\u001b[0m\u001b[0;34m'GGA'\u001b[0m\u001b[0;34m,\u001b[0m\u001b[0;34m'GGG'\u001b[0m\u001b[0;34m]\u001b[0m\u001b[0;34m\u001b[0m\u001b[0m\n\u001b[0;32m----> 2\u001b[0;31m \u001b[0mdf\u001b[0m\u001b[0;34m[\u001b[0m\u001b[0;34m'ThirdPos'\u001b[0m\u001b[0;34m]\u001b[0m\u001b[0;34m,\u001b[0m \u001b[0mdf\u001b[0m\u001b[0;34m[\u001b[0m\u001b[0;34m'SitesNumber'\u001b[0m\u001b[0;34m]\u001b[0m \u001b[0;34m=\u001b[0m \u001b[0mdf\u001b[0m\u001b[0;34m.\u001b[0m\u001b[0mapply\u001b[0m\u001b[0;34m(\u001b[0m\u001b[0;32mlambda\u001b[0m \u001b[0mr\u001b[0m\u001b[0;34m:\u001b[0m \u001b[0mget_fourfold_deg_sites\u001b[0m\u001b[0;34m(\u001b[0m\u001b[0mr\u001b[0m\u001b[0;34m[\u001b[0m\u001b[0;34m'Sequence'\u001b[0m\u001b[0;34m]\u001b[0m\u001b[0;34m,\u001b[0m \u001b[0mVecOfSynFourFoldDegenerateSites\u001b[0m\u001b[0;34m)\u001b[0m\u001b[0;34m,\u001b[0m \u001b[0maxis\u001b[0m\u001b[0;34m=\u001b[0m\u001b[0;36m1\u001b[0m\u001b[0;34m)\u001b[0m\u001b[0;34m\u001b[0m\u001b[0m\n\u001b[0m",
      "\u001b[0;31mValueError\u001b[0m: too many values to unpack (expected 2)"
     ]
    }
   ],
   "source": [
    "VecOfSynFourFoldDegenerateSites = ['CTT','CTC','CTA','CTG','GTT','GTC','GTA','GTG','TCT','TCC','TCA','TCG','CCT','CCC','CCA','CCG','ACT','ACC','ACA','ACG','GCT','GCC','GCA','GCG','CGT','CGC','CGA','CGG','GGT','GGC','GGA','GGG']\n",
    "df['ThirdPos'], df['SitesNumber'] = df.apply(lambda r: get_fourfold_deg_sites(r['Sequence'], VecOfSynFourFoldDegenerateSites), axis=1)"
   ]
  },
  {
   "cell_type": "code",
   "execution_count": 6,
   "metadata": {
    "collapsed": false
   },
   "outputs": [],
   "source": [
    "VecOfSynFourFoldDegenerateSites = ['CTT','CTC','CTA','CTG','GTT','GTC','GTA','GTG','TCT','TCC','TCA','TCG','CCT','CCC','CCA','CCG','ACT','ACC','ACA','ACG','GCT','GCC','GCA','GCG','CGT','CGC','CGA','CGG','GGT','GGC','GGA','GGG']\n",
    "\n",
    "a = []\n",
    "b = []\n",
    "for seq in df.Sequence:\n",
    "    first, second = get_fourfold_deg_sites(seq, VecOfSynFourFoldDegenerateSites)\n",
    "    a.append(first)\n",
    "    b.append(second)"
   ]
  },
  {
   "cell_type": "code",
   "execution_count": 7,
   "metadata": {
    "collapsed": false
   },
   "outputs": [],
   "source": [
    "df['ThirdPos'], df['SitesNumber'] = a, b"
   ]
  },
  {
   "cell_type": "code",
   "execution_count": 8,
   "metadata": {
    "collapsed": false
   },
   "outputs": [
    {
     "data": {
      "text/html": [
       "<div>\n",
       "<table border=\"1\" class=\"dataframe\">\n",
       "  <thead>\n",
       "    <tr style=\"text-align: right;\">\n",
       "      <th></th>\n",
       "      <th>Species</th>\n",
       "      <th>Gene</th>\n",
       "      <th>Sequence</th>\n",
       "      <th>ThirdPos</th>\n",
       "      <th>SitesNumber</th>\n",
       "    </tr>\n",
       "  </thead>\n",
       "  <tbody>\n",
       "    <tr>\n",
       "      <th>0</th>\n",
       "      <td>Silurus_microdorsalis</td>\n",
       "      <td>ND1</td>\n",
       "      <td>ATGTTAGCTCTACTAATAACACATGTAATTAACCCCTTAGCCTATA...</td>\n",
       "      <td>TAAAACCACAAATCCAAAAATCAAACTGAACAATACACCCCCCCCT...</td>\n",
       "      <td>190</td>\n",
       "    </tr>\n",
       "    <tr>\n",
       "      <th>1</th>\n",
       "      <td>Silurus_microdorsalis</td>\n",
       "      <td>ND2</td>\n",
       "      <td>ATGAGCCCCTACGTCATTACAATTCTCCTATCAAGCCTCGGCCTAG...</td>\n",
       "      <td>CCACAACCACACCACCCAAACCCCAAACCTACTCAAAACCTAAAAC...</td>\n",
       "      <td>198</td>\n",
       "    </tr>\n",
       "    <tr>\n",
       "      <th>2</th>\n",
       "      <td>Silurus_microdorsalis</td>\n",
       "      <td>COX1</td>\n",
       "      <td>GTGACAATCACGCGCTGATTCTTCTCAACCAACCATAAAGACATTG...</td>\n",
       "      <td>GAGCACCCTATCCACCACACAAGCTCCCACTTGTCAAAGAGTATTG...</td>\n",
       "      <td>283</td>\n",
       "    </tr>\n",
       "    <tr>\n",
       "      <th>3</th>\n",
       "      <td>Silurus_microdorsalis</td>\n",
       "      <td>COX2</td>\n",
       "      <td>ATGGCACACCCCTCACAACTAGGATTCCAAGACGCGGCCTCCCCTG...</td>\n",
       "      <td>ACAAAGCCTATCCTAATATACCTCCACCGAAAATCCCCAAATCTTA...</td>\n",
       "      <td>109</td>\n",
       "    </tr>\n",
       "    <tr>\n",
       "      <th>4</th>\n",
       "      <td>Silurus_microdorsalis</td>\n",
       "      <td>ATP8</td>\n",
       "      <td>ATGCCACAATTAAACCCCGCCCCATGATTTGCAATTCTTGTATTCT...</td>\n",
       "      <td>ACCAATAGAAAACTCATACCTTACA</td>\n",
       "      <td>25</td>\n",
       "    </tr>\n",
       "  </tbody>\n",
       "</table>\n",
       "</div>"
      ],
      "text/plain": [
       "                 Species  Gene  \\\n",
       "0  Silurus_microdorsalis   ND1   \n",
       "1  Silurus_microdorsalis   ND2   \n",
       "2  Silurus_microdorsalis  COX1   \n",
       "3  Silurus_microdorsalis  COX2   \n",
       "4  Silurus_microdorsalis  ATP8   \n",
       "\n",
       "                                            Sequence  \\\n",
       "0  ATGTTAGCTCTACTAATAACACATGTAATTAACCCCTTAGCCTATA...   \n",
       "1  ATGAGCCCCTACGTCATTACAATTCTCCTATCAAGCCTCGGCCTAG...   \n",
       "2  GTGACAATCACGCGCTGATTCTTCTCAACCAACCATAAAGACATTG...   \n",
       "3  ATGGCACACCCCTCACAACTAGGATTCCAAGACGCGGCCTCCCCTG...   \n",
       "4  ATGCCACAATTAAACCCCGCCCCATGATTTGCAATTCTTGTATTCT...   \n",
       "\n",
       "                                            ThirdPos  SitesNumber  \n",
       "0  TAAAACCACAAATCCAAAAATCAAACTGAACAATACACCCCCCCCT...          190  \n",
       "1  CCACAACCACACCACCCAAACCCCAAACCTACTCAAAACCTAAAAC...          198  \n",
       "2  GAGCACCCTATCCACCACACAAGCTCCCACTTGTCAAAGAGTATTG...          283  \n",
       "3  ACAAAGCCTATCCTAATATACCTCCACCGAAAATCCCCAAATCTTA...          109  \n",
       "4                          ACCAATAGAAAACTCATACCTTACA           25  "
      ]
     },
     "execution_count": 8,
     "metadata": {},
     "output_type": "execute_result"
    }
   ],
   "source": [
    "df.head()"
   ]
  },
  {
   "cell_type": "code",
   "execution_count": 31,
   "metadata": {
    "collapsed": false
   },
   "outputs": [
    {
     "data": {
      "text/html": [
       "<div>\n",
       "<table border=\"1\" class=\"dataframe\">\n",
       "  <thead>\n",
       "    <tr style=\"text-align: right;\">\n",
       "      <th></th>\n",
       "      <th>SitesNumber</th>\n",
       "    </tr>\n",
       "  </thead>\n",
       "  <tbody>\n",
       "    <tr>\n",
       "      <th>count</th>\n",
       "      <td>3951.000000</td>\n",
       "    </tr>\n",
       "    <tr>\n",
       "      <th>mean</th>\n",
       "      <td>26.051886</td>\n",
       "    </tr>\n",
       "    <tr>\n",
       "      <th>std</th>\n",
       "      <td>4.810073</td>\n",
       "    </tr>\n",
       "    <tr>\n",
       "      <th>min</th>\n",
       "      <td>5.000000</td>\n",
       "    </tr>\n",
       "    <tr>\n",
       "      <th>25%</th>\n",
       "      <td>23.000000</td>\n",
       "    </tr>\n",
       "    <tr>\n",
       "      <th>50%</th>\n",
       "      <td>26.000000</td>\n",
       "    </tr>\n",
       "    <tr>\n",
       "      <th>75%</th>\n",
       "      <td>29.000000</td>\n",
       "    </tr>\n",
       "    <tr>\n",
       "      <th>max</th>\n",
       "      <td>132.000000</td>\n",
       "    </tr>\n",
       "  </tbody>\n",
       "</table>\n",
       "</div>"
      ],
      "text/plain": [
       "       SitesNumber\n",
       "count  3951.000000\n",
       "mean     26.051886\n",
       "std       4.810073\n",
       "min       5.000000\n",
       "25%      23.000000\n",
       "50%      26.000000\n",
       "75%      29.000000\n",
       "max     132.000000"
      ]
     },
     "execution_count": 31,
     "metadata": {},
     "output_type": "execute_result"
    }
   ],
   "source": [
    "df[df['Gene'] == 'ATP8'].describe()"
   ]
  },
  {
   "cell_type": "code",
   "execution_count": 32,
   "metadata": {
    "collapsed": false
   },
   "outputs": [
    {
     "data": {
      "text/html": [
       "<div>\n",
       "<table border=\"1\" class=\"dataframe\">\n",
       "  <thead>\n",
       "    <tr style=\"text-align: right;\">\n",
       "      <th></th>\n",
       "      <th>SitesNumber</th>\n",
       "    </tr>\n",
       "  </thead>\n",
       "  <tbody>\n",
       "    <tr>\n",
       "      <th>count</th>\n",
       "      <td>3954.000000</td>\n",
       "    </tr>\n",
       "    <tr>\n",
       "      <th>mean</th>\n",
       "      <td>200.381892</td>\n",
       "    </tr>\n",
       "    <tr>\n",
       "      <th>std</th>\n",
       "      <td>11.975218</td>\n",
       "    </tr>\n",
       "    <tr>\n",
       "      <th>min</th>\n",
       "      <td>0.000000</td>\n",
       "    </tr>\n",
       "    <tr>\n",
       "      <th>25%</th>\n",
       "      <td>194.000000</td>\n",
       "    </tr>\n",
       "    <tr>\n",
       "      <th>50%</th>\n",
       "      <td>202.000000</td>\n",
       "    </tr>\n",
       "    <tr>\n",
       "      <th>75%</th>\n",
       "      <td>209.000000</td>\n",
       "    </tr>\n",
       "    <tr>\n",
       "      <th>max</th>\n",
       "      <td>225.000000</td>\n",
       "    </tr>\n",
       "  </tbody>\n",
       "</table>\n",
       "</div>"
      ],
      "text/plain": [
       "       SitesNumber\n",
       "count  3954.000000\n",
       "mean    200.381892\n",
       "std      11.975218\n",
       "min       0.000000\n",
       "25%     194.000000\n",
       "50%     202.000000\n",
       "75%     209.000000\n",
       "max     225.000000"
      ]
     },
     "execution_count": 32,
     "metadata": {},
     "output_type": "execute_result"
    }
   ],
   "source": [
    "df[df['Gene'] == 'CytB'].describe()"
   ]
  },
  {
   "cell_type": "code",
   "execution_count": 9,
   "metadata": {
    "collapsed": true
   },
   "outputs": [],
   "source": [
    "def gc_skew(seq):\n",
    "    g = seq.count('G')\n",
    "    c = seq.count('C')\n",
    "    skew = (g - c) / (g + c)\n",
    "    return(skew)\n",
    "\n",
    "def at_skew(seq):\n",
    "    a = seq.count('A')\n",
    "    t = seq.count('T')\n",
    "    skew = (a - t) / (a + t)\n",
    "    return(skew)"
   ]
  },
  {
   "cell_type": "code",
   "execution_count": 27,
   "metadata": {
    "collapsed": false
   },
   "outputs": [],
   "source": [
    "gc_list = []\n",
    "at_list = []\n",
    "for i in df.ThirdPos:\n",
    "    try:\n",
    "        gc_list.append(gc_skew(i))\n",
    "    except ZeroDivisionError:\n",
    "        gc_list.append(0)\n",
    "    try:\n",
    "        at_list.append(at_skew(i))\n",
    "    except ZeroDivisionError:\n",
    "        at_list.append(0)"
   ]
  },
  {
   "cell_type": "code",
   "execution_count": 29,
   "metadata": {
    "collapsed": false
   },
   "outputs": [],
   "source": [
    "df['GCSkew'], df['ATSkew'] = gc_list, at_list"
   ]
  },
  {
   "cell_type": "code",
   "execution_count": 30,
   "metadata": {
    "collapsed": false
   },
   "outputs": [
    {
     "data": {
      "text/html": [
       "<div>\n",
       "<table border=\"1\" class=\"dataframe\">\n",
       "  <thead>\n",
       "    <tr style=\"text-align: right;\">\n",
       "      <th></th>\n",
       "      <th>SitesNumber</th>\n",
       "      <th>GCSkew</th>\n",
       "      <th>ATSkew</th>\n",
       "    </tr>\n",
       "  </thead>\n",
       "  <tbody>\n",
       "    <tr>\n",
       "      <th>count</th>\n",
       "      <td>3954.000000</td>\n",
       "      <td>3954.000000</td>\n",
       "      <td>3954.000000</td>\n",
       "    </tr>\n",
       "    <tr>\n",
       "      <th>mean</th>\n",
       "      <td>200.381892</td>\n",
       "      <td>-0.698790</td>\n",
       "      <td>0.449214</td>\n",
       "    </tr>\n",
       "    <tr>\n",
       "      <th>std</th>\n",
       "      <td>11.975218</td>\n",
       "      <td>0.177346</td>\n",
       "      <td>0.216323</td>\n",
       "    </tr>\n",
       "    <tr>\n",
       "      <th>min</th>\n",
       "      <td>0.000000</td>\n",
       "      <td>-1.000000</td>\n",
       "      <td>-0.551020</td>\n",
       "    </tr>\n",
       "    <tr>\n",
       "      <th>25%</th>\n",
       "      <td>194.000000</td>\n",
       "      <td>-0.817718</td>\n",
       "      <td>0.306571</td>\n",
       "    </tr>\n",
       "    <tr>\n",
       "      <th>50%</th>\n",
       "      <td>202.000000</td>\n",
       "      <td>-0.731707</td>\n",
       "      <td>0.479333</td>\n",
       "    </tr>\n",
       "    <tr>\n",
       "      <th>75%</th>\n",
       "      <td>209.000000</td>\n",
       "      <td>-0.617978</td>\n",
       "      <td>0.619835</td>\n",
       "    </tr>\n",
       "    <tr>\n",
       "      <th>max</th>\n",
       "      <td>225.000000</td>\n",
       "      <td>0.777778</td>\n",
       "      <td>0.886525</td>\n",
       "    </tr>\n",
       "  </tbody>\n",
       "</table>\n",
       "</div>"
      ],
      "text/plain": [
       "       SitesNumber       GCSkew       ATSkew\n",
       "count  3954.000000  3954.000000  3954.000000\n",
       "mean    200.381892    -0.698790     0.449214\n",
       "std      11.975218     0.177346     0.216323\n",
       "min       0.000000    -1.000000    -0.551020\n",
       "25%     194.000000    -0.817718     0.306571\n",
       "50%     202.000000    -0.731707     0.479333\n",
       "75%     209.000000    -0.617978     0.619835\n",
       "max     225.000000     0.777778     0.886525"
      ]
     },
     "execution_count": 30,
     "metadata": {},
     "output_type": "execute_result"
    }
   ],
   "source": [
    "df[df['Gene'] == 'CytB'].describe()"
   ]
  },
  {
   "cell_type": "code",
   "execution_count": 31,
   "metadata": {
    "collapsed": false
   },
   "outputs": [
    {
     "data": {
      "text/html": [
       "<div>\n",
       "<table border=\"1\" class=\"dataframe\">\n",
       "  <thead>\n",
       "    <tr style=\"text-align: right;\">\n",
       "      <th></th>\n",
       "      <th>SitesNumber</th>\n",
       "      <th>GCSkew</th>\n",
       "      <th>ATSkew</th>\n",
       "    </tr>\n",
       "  </thead>\n",
       "  <tbody>\n",
       "    <tr>\n",
       "      <th>count</th>\n",
       "      <td>3951.000000</td>\n",
       "      <td>3951.000000</td>\n",
       "      <td>3951.000000</td>\n",
       "    </tr>\n",
       "    <tr>\n",
       "      <th>mean</th>\n",
       "      <td>26.051886</td>\n",
       "      <td>-0.678314</td>\n",
       "      <td>0.283611</td>\n",
       "    </tr>\n",
       "    <tr>\n",
       "      <th>std</th>\n",
       "      <td>4.810073</td>\n",
       "      <td>0.310572</td>\n",
       "      <td>0.278132</td>\n",
       "    </tr>\n",
       "    <tr>\n",
       "      <th>min</th>\n",
       "      <td>5.000000</td>\n",
       "      <td>-1.000000</td>\n",
       "      <td>-1.000000</td>\n",
       "    </tr>\n",
       "    <tr>\n",
       "      <th>25%</th>\n",
       "      <td>23.000000</td>\n",
       "      <td>-1.000000</td>\n",
       "      <td>0.090909</td>\n",
       "    </tr>\n",
       "    <tr>\n",
       "      <th>50%</th>\n",
       "      <td>26.000000</td>\n",
       "      <td>-0.750000</td>\n",
       "      <td>0.294118</td>\n",
       "    </tr>\n",
       "    <tr>\n",
       "      <th>75%</th>\n",
       "      <td>29.000000</td>\n",
       "      <td>-0.500000</td>\n",
       "      <td>0.478261</td>\n",
       "    </tr>\n",
       "    <tr>\n",
       "      <th>max</th>\n",
       "      <td>132.000000</td>\n",
       "      <td>1.000000</td>\n",
       "      <td>1.000000</td>\n",
       "    </tr>\n",
       "  </tbody>\n",
       "</table>\n",
       "</div>"
      ],
      "text/plain": [
       "       SitesNumber       GCSkew       ATSkew\n",
       "count  3951.000000  3951.000000  3951.000000\n",
       "mean     26.051886    -0.678314     0.283611\n",
       "std       4.810073     0.310572     0.278132\n",
       "min       5.000000    -1.000000    -1.000000\n",
       "25%      23.000000    -1.000000     0.090909\n",
       "50%      26.000000    -0.750000     0.294118\n",
       "75%      29.000000    -0.500000     0.478261\n",
       "max     132.000000     1.000000     1.000000"
      ]
     },
     "execution_count": 31,
     "metadata": {},
     "output_type": "execute_result"
    }
   ],
   "source": [
    "df[df['Gene'] == 'ATP8'].describe()"
   ]
  },
  {
   "cell_type": "code",
   "execution_count": 40,
   "metadata": {
    "collapsed": false,
    "scrolled": true
   },
   "outputs": [],
   "source": [
    "df.loc[:, ['Species', 'Gene', 'Sites_Number', 'GCSkew', 'ATSkew']].to_csv('cds_at_gc_skew_with_sites_number_python.csv', \n",
    "                                                                          sep='\\t')"
   ]
  },
  {
   "cell_type": "code",
   "execution_count": 41,
   "metadata": {
    "collapsed": false
   },
   "outputs": [
    {
     "data": {
      "text/html": [
       "<div>\n",
       "<table border=\"1\" class=\"dataframe\">\n",
       "  <thead>\n",
       "    <tr style=\"text-align: right;\">\n",
       "      <th></th>\n",
       "      <th>Species</th>\n",
       "      <th>Gene</th>\n",
       "      <th>Sequence</th>\n",
       "      <th>ThirdPos</th>\n",
       "      <th>SitesNumber</th>\n",
       "      <th>GCSkew</th>\n",
       "      <th>ATSkew</th>\n",
       "    </tr>\n",
       "  </thead>\n",
       "  <tbody>\n",
       "    <tr>\n",
       "      <th>0</th>\n",
       "      <td>Silurus_microdorsalis</td>\n",
       "      <td>ND1</td>\n",
       "      <td>ATGTTAGCTCTACTAATAACACATGTAATTAACCCCTTAGCCTATA...</td>\n",
       "      <td>TAAAACCACAAATCCAAAAATCAAACTGAACAATACACCCCCCCCT...</td>\n",
       "      <td>190</td>\n",
       "      <td>-0.789474</td>\n",
       "      <td>0.561404</td>\n",
       "    </tr>\n",
       "    <tr>\n",
       "      <th>1</th>\n",
       "      <td>Silurus_microdorsalis</td>\n",
       "      <td>ND2</td>\n",
       "      <td>ATGAGCCCCTACGTCATTACAATTCTCCTATCAAGCCTCGGCCTAG...</td>\n",
       "      <td>CCACAACCACACCACCCAAACCCCAAACCTACTCAAAACCTAAAAC...</td>\n",
       "      <td>198</td>\n",
       "      <td>-0.846154</td>\n",
       "      <td>0.682243</td>\n",
       "    </tr>\n",
       "    <tr>\n",
       "      <th>2</th>\n",
       "      <td>Silurus_microdorsalis</td>\n",
       "      <td>COX1</td>\n",
       "      <td>GTGACAATCACGCGCTGATTCTTCTCAACCAACCATAAAGACATTG...</td>\n",
       "      <td>GAGCACCCTATCCACCACACAAGCTCCCACTTGTCAAAGAGTATTG...</td>\n",
       "      <td>283</td>\n",
       "      <td>-0.415094</td>\n",
       "      <td>0.389831</td>\n",
       "    </tr>\n",
       "    <tr>\n",
       "      <th>3</th>\n",
       "      <td>Silurus_microdorsalis</td>\n",
       "      <td>COX2</td>\n",
       "      <td>ATGGCACACCCCTCACAACTAGGATTCCAAGACGCGGCCTCCCCTG...</td>\n",
       "      <td>ACAAAGCCTATCCTAATATACCTCCACCGAAAATCCCCAAATCTTA...</td>\n",
       "      <td>109</td>\n",
       "      <td>-0.695652</td>\n",
       "      <td>0.428571</td>\n",
       "    </tr>\n",
       "    <tr>\n",
       "      <th>4</th>\n",
       "      <td>Silurus_microdorsalis</td>\n",
       "      <td>ATP8</td>\n",
       "      <td>ATGCCACAATTAAACCCCGCCCCATGATTTGCAATTCTTGTATTCT...</td>\n",
       "      <td>ACCAATAGAAAACTCATACCTTACA</td>\n",
       "      <td>25</td>\n",
       "      <td>-0.750000</td>\n",
       "      <td>0.411765</td>\n",
       "    </tr>\n",
       "  </tbody>\n",
       "</table>\n",
       "</div>"
      ],
      "text/plain": [
       "                 Species  Gene  \\\n",
       "0  Silurus_microdorsalis   ND1   \n",
       "1  Silurus_microdorsalis   ND2   \n",
       "2  Silurus_microdorsalis  COX1   \n",
       "3  Silurus_microdorsalis  COX2   \n",
       "4  Silurus_microdorsalis  ATP8   \n",
       "\n",
       "                                            Sequence  \\\n",
       "0  ATGTTAGCTCTACTAATAACACATGTAATTAACCCCTTAGCCTATA...   \n",
       "1  ATGAGCCCCTACGTCATTACAATTCTCCTATCAAGCCTCGGCCTAG...   \n",
       "2  GTGACAATCACGCGCTGATTCTTCTCAACCAACCATAAAGACATTG...   \n",
       "3  ATGGCACACCCCTCACAACTAGGATTCCAAGACGCGGCCTCCCCTG...   \n",
       "4  ATGCCACAATTAAACCCCGCCCCATGATTTGCAATTCTTGTATTCT...   \n",
       "\n",
       "                                            ThirdPos  SitesNumber    GCSkew  \\\n",
       "0  TAAAACCACAAATCCAAAAATCAAACTGAACAATACACCCCCCCCT...          190 -0.789474   \n",
       "1  CCACAACCACACCACCCAAACCCCAAACCTACTCAAAACCTAAAAC...          198 -0.846154   \n",
       "2  GAGCACCCTATCCACCACACAAGCTCCCACTTGTCAAAGAGTATTG...          283 -0.415094   \n",
       "3  ACAAAGCCTATCCTAATATACCTCCACCGAAAATCCCCAAATCTTA...          109 -0.695652   \n",
       "4                          ACCAATAGAAAACTCATACCTTACA           25 -0.750000   \n",
       "\n",
       "     ATSkew  \n",
       "0  0.561404  \n",
       "1  0.682243  \n",
       "2  0.389831  \n",
       "3  0.428571  \n",
       "4  0.411765  "
      ]
     },
     "execution_count": 41,
     "metadata": {},
     "output_type": "execute_result"
    }
   ],
   "source": [
    "df.head()"
   ]
  },
  {
   "cell_type": "code",
   "execution_count": null,
   "metadata": {
    "collapsed": true
   },
   "outputs": [],
   "source": []
  },
  {
   "cell_type": "code",
   "execution_count": null,
   "metadata": {
    "collapsed": true
   },
   "outputs": [],
   "source": []
  },
  {
   "cell_type": "code",
   "execution_count": null,
   "metadata": {
    "collapsed": true
   },
   "outputs": [],
   "source": []
  },
  {
   "cell_type": "code",
   "execution_count": null,
   "metadata": {
    "collapsed": true
   },
   "outputs": [],
   "source": []
  },
  {
   "cell_type": "code",
   "execution_count": null,
   "metadata": {
    "collapsed": true
   },
   "outputs": [],
   "source": []
  },
  {
   "cell_type": "code",
   "execution_count": null,
   "metadata": {
    "collapsed": true
   },
   "outputs": [],
   "source": []
  }
 ],
 "metadata": {
  "kernelspec": {
   "display_name": "Python 3",
   "language": "python",
   "name": "python3"
  },
  "language_info": {
   "codemirror_mode": {
    "name": "ipython",
    "version": 3
   },
   "file_extension": ".py",
   "mimetype": "text/x-python",
   "name": "python",
   "nbconvert_exporter": "python",
   "pygments_lexer": "ipython3",
   "version": "3.6.0"
  }
 },
 "nbformat": 4,
 "nbformat_minor": 2
}
